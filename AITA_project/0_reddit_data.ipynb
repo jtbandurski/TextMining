{
 "cells": [
  {
   "cell_type": "markdown",
   "metadata": {},
   "source": [
    "# Jakub Bandurski, Michał Bryzik, Kacper Gruca\n",
    "## Text Mining and Social Media Mining Project\n",
    "## Can sentiment analysis predict the subreddit r/AITA top comment verdict?\n",
    "## What are the most common topics on this subreddit?"
   ]
  },
  {
   "cell_type": "markdown",
   "metadata": {},
   "source": [
    "### Scraping hurdles\n",
    "We faced an issue caused by Reddit API changes which makes it harder to scrape this social media platform.\n",
    "The API has to be paid for right now. The alternatives are commercial Reddit scrapers.\n",
    "Based on the above we decided to use a dataset posted by Oliver Posewitz on kaggle: https://www.kaggle.com/datasets/oliverposewitz/reddit-raita-post-and-comments"
   ]
  },
  {
   "cell_type": "markdown",
   "metadata": {},
   "source": [
    "### Data description\n",
    "This dataset contains almost 95k posts from AITA subreddit https://www.reddit.com/r/AmItheAsshole\n",
    "\n",
    "Each post has three top comments associated with it.\n",
    "\n",
    "### AITA description\n",
    "On the Am I The A\\*\\*\\*\\*\\*\\* subreddit people post situations from their lives with a question if they have or would act inaproprietly.\n",
    "\n",
    "The agreed answer is the top 1 upvoted comment which usually includes the reasons for judgment and the judgment in form of YTA, NTA, ESH, NAH.\n",
    "\n",
    "Which mean respectivly You're The A\\*\\*\\*\\*\\*\\*, Not The A\\*\\*\\*\\*\\*\\*, Everyone S\\*\\*\\*\\* Here, No A\\*\\*\\*\\*\\*\\*\\* Here. "
   ]
  },
  {
   "cell_type": "markdown",
   "metadata": {},
   "source": [
    "# Transforming the dataset"
   ]
  },
  {
   "cell_type": "markdown",
   "metadata": {},
   "source": [
    "## Pivoting the table from long format to wide format"
   ]
  },
  {
   "cell_type": "code",
   "execution_count": 56,
   "metadata": {},
   "outputs": [],
   "source": [
    "import pandas as pd\n",
    "df = pd.read_csv(\"./data/cleaned_post_comment.csv\")\n",
    "df = df.drop(df.columns[0],axis=1)"
   ]
  },
  {
   "cell_type": "code",
   "execution_count": 46,
   "metadata": {},
   "outputs": [
    {
     "data": {
      "text/html": [
       "<div>\n",
       "<style scoped>\n",
       "    .dataframe tbody tr th:only-of-type {\n",
       "        vertical-align: middle;\n",
       "    }\n",
       "\n",
       "    .dataframe tbody tr th {\n",
       "        vertical-align: top;\n",
       "    }\n",
       "\n",
       "    .dataframe thead th {\n",
       "        text-align: right;\n",
       "    }\n",
       "</style>\n",
       "<table border=\"1\" class=\"dataframe\">\n",
       "  <thead>\n",
       "    <tr style=\"text-align: right;\">\n",
       "      <th></th>\n",
       "      <th>title_body</th>\n",
       "      <th>comment</th>\n",
       "    </tr>\n",
       "  </thead>\n",
       "  <tbody>\n",
       "    <tr>\n",
       "      <th>0</th>\n",
       "      <td>[AITA] I wrote an explanation in TIL and came ...</td>\n",
       "      <td>&lt;|response|&gt; There is nothing wrong with your ...</td>\n",
       "    </tr>\n",
       "    <tr>\n",
       "      <th>1</th>\n",
       "      <td>[AITA] Threw my parent's donuts away My parent...</td>\n",
       "      <td>&lt;|response|&gt; Yep. You're the asshole. If you w...</td>\n",
       "    </tr>\n",
       "    <tr>\n",
       "      <th>2</th>\n",
       "      <td>I told a goth girl she looked like a clown. I ...</td>\n",
       "      <td>&lt;|response|&gt; Kids say ridiculous things all th...</td>\n",
       "    </tr>\n",
       "    <tr>\n",
       "      <th>3</th>\n",
       "      <td>[AItA]: Argument I had with another redditor i...</td>\n",
       "      <td>&lt;|response|&gt; I'm not reading that. But don't s...</td>\n",
       "    </tr>\n",
       "    <tr>\n",
       "      <th>4</th>\n",
       "      <td>[AITA] I let my story get a little long and bo...</td>\n",
       "      <td>&lt;|response|&gt; A real yawn? Or an I'm-trying-to-...</td>\n",
       "    </tr>\n",
       "  </tbody>\n",
       "</table>\n",
       "</div>"
      ],
      "text/plain": [
       "                                          title_body  \\\n",
       "0  [AITA] I wrote an explanation in TIL and came ...   \n",
       "1  [AITA] Threw my parent's donuts away My parent...   \n",
       "2  I told a goth girl she looked like a clown. I ...   \n",
       "3  [AItA]: Argument I had with another redditor i...   \n",
       "4  [AITA] I let my story get a little long and bo...   \n",
       "\n",
       "                                             comment  \n",
       "0  <|response|> There is nothing wrong with your ...  \n",
       "1  <|response|> Yep. You're the asshole. If you w...  \n",
       "2  <|response|> Kids say ridiculous things all th...  \n",
       "3  <|response|> I'm not reading that. But don't s...  \n",
       "4  <|response|> A real yawn? Or an I'm-trying-to-...  "
      ]
     },
     "execution_count": 46,
     "metadata": {},
     "output_type": "execute_result"
    }
   ],
   "source": [
    "df.head()"
   ]
  },
  {
   "cell_type": "code",
   "execution_count": 65,
   "metadata": {},
   "outputs": [
    {
     "name": "stdout",
     "output_type": "stream",
     "text": [
      "(194191, 2)\n"
     ]
    }
   ],
   "source": [
    "print(df.shape)\n",
    "# take the first comment out of the three provided\n",
    "grouping = df.groupby('title_body')['comment'].agg([('C1', lambda x: x.iloc[0])])  \n",
    "grouping.shape\n",
    "grouping.reset_index(inplace=True)"
   ]
  },
  {
   "cell_type": "code",
   "execution_count": 68,
   "metadata": {},
   "outputs": [
    {
     "data": {
      "text/html": [
       "<div>\n",
       "<style scoped>\n",
       "    .dataframe tbody tr th:only-of-type {\n",
       "        vertical-align: middle;\n",
       "    }\n",
       "\n",
       "    .dataframe tbody tr th {\n",
       "        vertical-align: top;\n",
       "    }\n",
       "\n",
       "    .dataframe thead th {\n",
       "        text-align: right;\n",
       "    }\n",
       "</style>\n",
       "<table border=\"1\" class=\"dataframe\">\n",
       "  <thead>\n",
       "    <tr style=\"text-align: right;\">\n",
       "      <th></th>\n",
       "      <th>title_body</th>\n",
       "      <th>C1</th>\n",
       "    </tr>\n",
       "  </thead>\n",
       "  <tbody>\n",
       "    <tr>\n",
       "      <th>0</th>\n",
       "      <td>(non specific conflict) Telemarketers vs. Phon...</td>\n",
       "      <td>&lt;|response|&gt; Yes, you are the asshole, with ca...</td>\n",
       "    </tr>\n",
       "    <tr>\n",
       "      <th>1</th>\n",
       "      <td>AIAA, Disabled CSGO player who found another \"...</td>\n",
       "      <td>&lt;|response|&gt; Why would you be the asshole? You...</td>\n",
       "    </tr>\n",
       "    <tr>\n",
       "      <th>2</th>\n",
       "      <td>AITA \"...You left this marriage for your own s...</td>\n",
       "      <td>&lt;|response|&gt; YTA. It's only been three months ...</td>\n",
       "    </tr>\n",
       "    <tr>\n",
       "      <th>3</th>\n",
       "      <td>AITA \"Friend\" called me narcissistic a**hole f...</td>\n",
       "      <td>&lt;|response|&gt; Judging from the situation and yo...</td>\n",
       "    </tr>\n",
       "    <tr>\n",
       "      <th>4</th>\n",
       "      <td>AITA \"Friends\" argue with GF, now are mad at m...</td>\n",
       "      <td>&lt;|response|&gt; NTA Your “friends” are a bunch of...</td>\n",
       "    </tr>\n",
       "  </tbody>\n",
       "</table>\n",
       "</div>"
      ],
      "text/plain": [
       "                                          title_body  \\\n",
       "0  (non specific conflict) Telemarketers vs. Phon...   \n",
       "1  AIAA, Disabled CSGO player who found another \"...   \n",
       "2  AITA \"...You left this marriage for your own s...   \n",
       "3  AITA \"Friend\" called me narcissistic a**hole f...   \n",
       "4  AITA \"Friends\" argue with GF, now are mad at m...   \n",
       "\n",
       "                                                  C1  \n",
       "0  <|response|> Yes, you are the asshole, with ca...  \n",
       "1  <|response|> Why would you be the asshole? You...  \n",
       "2  <|response|> YTA. It's only been three months ...  \n",
       "3  <|response|> Judging from the situation and yo...  \n",
       "4  <|response|> NTA Your “friends” are a bunch of...  "
      ]
     },
     "execution_count": 68,
     "metadata": {},
     "output_type": "execute_result"
    }
   ],
   "source": [
    "grouping.head()"
   ]
  },
  {
   "cell_type": "markdown",
   "metadata": {},
   "source": [
    "From the head preview we can see that all comments have <|response|> which should be removed in the text cleaning part.\n",
    "\n",
    "At the same time we can see judgments of YTA, NTA etc."
   ]
  },
  {
   "cell_type": "code",
   "execution_count": 29,
   "metadata": {},
   "outputs": [],
   "source": [
    "# save\n",
    "import pickle\n",
    "grouping.to_pickle(\"./data/raw_data.pkl\")"
   ]
  }
 ],
 "metadata": {
  "kernelspec": {
   "display_name": ".venv",
   "language": "python",
   "name": "python3"
  },
  "language_info": {
   "codemirror_mode": {
    "name": "ipython",
    "version": 3
   },
   "file_extension": ".py",
   "mimetype": "text/x-python",
   "name": "python",
   "nbconvert_exporter": "python",
   "pygments_lexer": "ipython3",
   "version": "3.10.11"
  }
 },
 "nbformat": 4,
 "nbformat_minor": 2
}
