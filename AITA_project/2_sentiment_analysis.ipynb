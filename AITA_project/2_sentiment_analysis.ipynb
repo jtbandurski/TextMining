{
 "cells": [
  {
   "cell_type": "markdown",
   "metadata": {},
   "source": [
    "# Jakub Bandurski, Michał Bryzik, Kacper Gruca\n",
    "## Text Mining and Social Media Mining Project\n",
    "## Can sentiment analysis predict the subreddit r/AITA top comment verdict?\n",
    "## What are the most common topics on this subreddit?"
   ]
  },
  {
   "cell_type": "markdown",
   "metadata": {},
   "source": [
    "# Imports"
   ]
  },
  {
   "cell_type": "code",
   "execution_count": 2,
   "metadata": {},
   "outputs": [],
   "source": [
    "import pandas as pd\n",
    "import numpy as np\n",
    "from nltk.sentiment.vader import SentimentIntensityAnalyzer\n",
    "analyser = SentimentIntensityAnalyzer()"
   ]
  },
  {
   "cell_type": "markdown",
   "metadata": {},
   "source": [
    "# Load data"
   ]
  },
  {
   "cell_type": "code",
   "execution_count": 2,
   "metadata": {},
   "outputs": [
    {
     "data": {
      "text/html": [
       "<div>\n",
       "<style scoped>\n",
       "    .dataframe tbody tr th:only-of-type {\n",
       "        vertical-align: middle;\n",
       "    }\n",
       "\n",
       "    .dataframe tbody tr th {\n",
       "        vertical-align: top;\n",
       "    }\n",
       "\n",
       "    .dataframe thead th {\n",
       "        text-align: right;\n",
       "    }\n",
       "</style>\n",
       "<table border=\"1\" class=\"dataframe\">\n",
       "  <thead>\n",
       "    <tr style=\"text-align: right;\">\n",
       "      <th></th>\n",
       "      <th>title_body_no_stopwords</th>\n",
       "      <th>C1_no_stopwords</th>\n",
       "      <th>title_body_stemmed</th>\n",
       "      <th>C1_stemmed</th>\n",
       "      <th>AITA</th>\n",
       "    </tr>\n",
       "  </thead>\n",
       "  <tbody>\n",
       "    <tr>\n",
       "      <th>0</th>\n",
       "      <td>left marriage selfish right happy think thats ...</td>\n",
       "      <td>three months since bfs split wife didnt divorc...</td>\n",
       "      <td>left marriage selfish right happy think thats ...</td>\n",
       "      <td>three months since bfs split wife didnt divorc...</td>\n",
       "      <td>True</td>\n",
       "    </tr>\n",
       "  </tbody>\n",
       "</table>\n",
       "</div>"
      ],
      "text/plain": [
       "                             title_body_no_stopwords  \\\n",
       "0  left marriage selfish right happy think thats ...   \n",
       "\n",
       "                                     C1_no_stopwords  \\\n",
       "0  three months since bfs split wife didnt divorc...   \n",
       "\n",
       "                                  title_body_stemmed  \\\n",
       "0  left marriage selfish right happy think thats ...   \n",
       "\n",
       "                                          C1_stemmed  AITA  \n",
       "0  three months since bfs split wife didnt divorc...  True  "
      ]
     },
     "execution_count": 2,
     "metadata": {},
     "output_type": "execute_result"
    }
   ],
   "source": [
    "data = pd.read_pickle(\"./data/cleaned_data.pkl\")\n",
    "data.head(1)"
   ]
  },
  {
   "cell_type": "markdown",
   "metadata": {},
   "source": [
    "# Calculate VADER score\n",
    "We are using a standard method of extracting the sentiment from the comments - VADER score.\n",
    "\n",
    "Usually the cut offs for the VADER score are:\n",
    "\n",
    "- Postive above 0.05\n",
    "- Negative below -0.05\n",
    "- Neutral in between\n",
    "\n",
    "As the verdict of the reddit hive-mind can be either Yes or No we are going to assume that neutral sentiment corresponds to NTA."
   ]
  },
  {
   "cell_type": "code",
   "execution_count": 6,
   "metadata": {},
   "outputs": [],
   "source": [
    "# move to sentiment analysis\n",
    "def calculate_sentiment_score(sentence, analyser):\n",
    "    snt = analyser.polarity_scores(sentence)  #call the polarity analyzer\n",
    "    return snt[\"compound\"]"
   ]
  },
  {
   "cell_type": "markdown",
   "metadata": {},
   "source": [
    "Calculate VADER score for all the comments - both stemmed and not stemmed versions."
   ]
  },
  {
   "cell_type": "code",
   "execution_count": 10,
   "metadata": {},
   "outputs": [
    {
     "data": {
      "text/html": [
       "<div>\n",
       "<style scoped>\n",
       "    .dataframe tbody tr th:only-of-type {\n",
       "        vertical-align: middle;\n",
       "    }\n",
       "\n",
       "    .dataframe tbody tr th {\n",
       "        vertical-align: top;\n",
       "    }\n",
       "\n",
       "    .dataframe thead th {\n",
       "        text-align: right;\n",
       "    }\n",
       "</style>\n",
       "<table border=\"1\" class=\"dataframe\">\n",
       "  <thead>\n",
       "    <tr style=\"text-align: right;\">\n",
       "      <th></th>\n",
       "      <th>title_body_no_stopwords</th>\n",
       "      <th>C1_no_stopwords</th>\n",
       "      <th>title_body_stemmed</th>\n",
       "      <th>C1_stemmed</th>\n",
       "      <th>AITA</th>\n",
       "      <th>C1_no_stopwords_sentiment</th>\n",
       "      <th>C1_stemmed_sentiment</th>\n",
       "    </tr>\n",
       "  </thead>\n",
       "  <tbody>\n",
       "    <tr>\n",
       "      <th>0</th>\n",
       "      <td>left marriage selfish right happy think thats ...</td>\n",
       "      <td>three months since bfs split wife didnt divorc...</td>\n",
       "      <td>left marriage selfish right happy think thats ...</td>\n",
       "      <td>three months since bfs split wife didnt divorc...</td>\n",
       "      <td>True</td>\n",
       "      <td>0.2023</td>\n",
       "      <td>0.2023</td>\n",
       "    </tr>\n",
       "  </tbody>\n",
       "</table>\n",
       "</div>"
      ],
      "text/plain": [
       "                             title_body_no_stopwords  \\\n",
       "0  left marriage selfish right happy think thats ...   \n",
       "\n",
       "                                     C1_no_stopwords  \\\n",
       "0  three months since bfs split wife didnt divorc...   \n",
       "\n",
       "                                  title_body_stemmed  \\\n",
       "0  left marriage selfish right happy think thats ...   \n",
       "\n",
       "                                          C1_stemmed  AITA  \\\n",
       "0  three months since bfs split wife didnt divorc...  True   \n",
       "\n",
       "   C1_no_stopwords_sentiment  C1_stemmed_sentiment  \n",
       "0                     0.2023                0.2023  "
      ]
     },
     "execution_count": 10,
     "metadata": {},
     "output_type": "execute_result"
    }
   ],
   "source": [
    "data[\"C1_no_stopwords_sentiment\"] = data[\"C1_no_stopwords\"].apply(lambda x: calculate_sentiment_score(sentence=x,analyser=analyser))\n",
    "data[\"C1_stemmed_sentiment\"] = data[\"C1_stemmed\"].apply(lambda x: calculate_sentiment_score(sentence=x,analyser=analyser))\n",
    "data.head(1)"
   ]
  },
  {
   "cell_type": "markdown",
   "metadata": {},
   "source": [
    "### Assign the True or False label based on VADER score"
   ]
  },
  {
   "cell_type": "code",
   "execution_count": 20,
   "metadata": {},
   "outputs": [],
   "source": [
    "def calculate_vader_verdict(x):\n",
    "    if x > 0.05:\n",
    "        # positive -> NTA -> false\n",
    "        return False\n",
    "    elif x< -0.05:\n",
    "        # negative -> YTA -> true\n",
    "        return True\n",
    "    else:\n",
    "        # neutral -> NTA -> false\n",
    "        return False"
   ]
  },
  {
   "cell_type": "markdown",
   "metadata": {},
   "source": [
    "Translate VADER score to a 'verdict' which means labels True (YTA) and False (NTA)"
   ]
  },
  {
   "cell_type": "code",
   "execution_count": 21,
   "metadata": {},
   "outputs": [
    {
     "data": {
      "text/html": [
       "<div>\n",
       "<style scoped>\n",
       "    .dataframe tbody tr th:only-of-type {\n",
       "        vertical-align: middle;\n",
       "    }\n",
       "\n",
       "    .dataframe tbody tr th {\n",
       "        vertical-align: top;\n",
       "    }\n",
       "\n",
       "    .dataframe thead th {\n",
       "        text-align: right;\n",
       "    }\n",
       "</style>\n",
       "<table border=\"1\" class=\"dataframe\">\n",
       "  <thead>\n",
       "    <tr style=\"text-align: right;\">\n",
       "      <th></th>\n",
       "      <th>title_body_no_stopwords</th>\n",
       "      <th>C1_no_stopwords</th>\n",
       "      <th>title_body_stemmed</th>\n",
       "      <th>C1_stemmed</th>\n",
       "      <th>AITA</th>\n",
       "      <th>C1_no_stopwords_sentiment</th>\n",
       "      <th>C1_stemmed_sentiment</th>\n",
       "      <th>C1_no_stopwords_AITA</th>\n",
       "      <th>C1_stemmed_sentiment_AITA</th>\n",
       "    </tr>\n",
       "  </thead>\n",
       "  <tbody>\n",
       "    <tr>\n",
       "      <th>0</th>\n",
       "      <td>left marriage selfish right happy think thats ...</td>\n",
       "      <td>three months since bfs split wife didnt divorc...</td>\n",
       "      <td>left marriage selfish right happy think thats ...</td>\n",
       "      <td>three months since bfs split wife didnt divorc...</td>\n",
       "      <td>True</td>\n",
       "      <td>0.2023</td>\n",
       "      <td>0.2023</td>\n",
       "      <td>False</td>\n",
       "      <td>False</td>\n",
       "    </tr>\n",
       "  </tbody>\n",
       "</table>\n",
       "</div>"
      ],
      "text/plain": [
       "                             title_body_no_stopwords  \\\n",
       "0  left marriage selfish right happy think thats ...   \n",
       "\n",
       "                                     C1_no_stopwords  \\\n",
       "0  three months since bfs split wife didnt divorc...   \n",
       "\n",
       "                                  title_body_stemmed  \\\n",
       "0  left marriage selfish right happy think thats ...   \n",
       "\n",
       "                                          C1_stemmed  AITA  \\\n",
       "0  three months since bfs split wife didnt divorc...  True   \n",
       "\n",
       "   C1_no_stopwords_sentiment  C1_stemmed_sentiment  C1_no_stopwords_AITA  \\\n",
       "0                     0.2023                0.2023                 False   \n",
       "\n",
       "   C1_stemmed_sentiment_AITA  \n",
       "0                      False  "
      ]
     },
     "execution_count": 21,
     "metadata": {},
     "output_type": "execute_result"
    }
   ],
   "source": [
    "# VADER scale:\n",
    "# > 0.05 positive\n",
    "# [-0.05, 0.05] neutral\n",
    "# < -0.05 negative\n",
    "\n",
    "data[\"C1_no_stopwords_AITA\"] = data[\"C1_no_stopwords_sentiment\"].apply(lambda x: calculate_vader_verdict(x))\n",
    "data[\"C1_stemmed_sentiment_AITA\"] = data[\"C1_stemmed_sentiment\"].apply(lambda x: calculate_vader_verdict(x))\n",
    "data.to_pickle(\"./data/vader_scores.pkl\")\n",
    "data.head(1)"
   ]
  },
  {
   "cell_type": "markdown",
   "metadata": {},
   "source": [
    "# Calculating error metrics"
   ]
  },
  {
   "cell_type": "code",
   "execution_count": 13,
   "metadata": {},
   "outputs": [],
   "source": [
    "from sklearn.metrics import accuracy_score\n",
    "from sklearn.metrics import confusion_matrix, ConfusionMatrixDisplay\n",
    "from sklearn.metrics import precision_score, recall_score\n",
    "from sklearn.metrics import f1_score\n",
    "from sklearn.metrics import roc_auc_score\n",
    "\n",
    "data = pd.read_pickle(\"./data/vader_scores.pkl\")"
   ]
  },
  {
   "cell_type": "markdown",
   "metadata": {},
   "source": [
    "## Calculate metrics"
   ]
  },
  {
   "cell_type": "code",
   "execution_count": 7,
   "metadata": {},
   "outputs": [
    {
     "data": {
      "text/html": [
       "<div>\n",
       "<style scoped>\n",
       "    .dataframe tbody tr th:only-of-type {\n",
       "        vertical-align: middle;\n",
       "    }\n",
       "\n",
       "    .dataframe tbody tr th {\n",
       "        vertical-align: top;\n",
       "    }\n",
       "\n",
       "    .dataframe thead th {\n",
       "        text-align: right;\n",
       "    }\n",
       "</style>\n",
       "<table border=\"1\" class=\"dataframe\">\n",
       "  <thead>\n",
       "    <tr style=\"text-align: right;\">\n",
       "      <th></th>\n",
       "      <th>stemmed</th>\n",
       "      <th>non-stemmed</th>\n",
       "    </tr>\n",
       "  </thead>\n",
       "  <tbody>\n",
       "    <tr>\n",
       "      <th>accuracy</th>\n",
       "      <td>0.586946</td>\n",
       "      <td>0.586946</td>\n",
       "    </tr>\n",
       "    <tr>\n",
       "      <th>precision</th>\n",
       "      <td>0.265989</td>\n",
       "      <td>0.265989</td>\n",
       "    </tr>\n",
       "    <tr>\n",
       "      <th>recall</th>\n",
       "      <td>0.414571</td>\n",
       "      <td>0.414571</td>\n",
       "    </tr>\n",
       "    <tr>\n",
       "      <th>f1</th>\n",
       "      <td>0.32406</td>\n",
       "      <td>0.32406</td>\n",
       "    </tr>\n",
       "    <tr>\n",
       "      <th>roc_auc</th>\n",
       "      <td>0.527802</td>\n",
       "      <td>0.527802</td>\n",
       "    </tr>\n",
       "  </tbody>\n",
       "</table>\n",
       "</div>"
      ],
      "text/plain": [
       "            stemmed non-stemmed\n",
       "accuracy   0.586946    0.586946\n",
       "precision  0.265989    0.265989\n",
       "recall     0.414571    0.414571\n",
       "f1          0.32406     0.32406\n",
       "roc_auc    0.527802    0.527802"
      ]
     },
     "execution_count": 7,
     "metadata": {},
     "output_type": "execute_result"
    }
   ],
   "source": [
    "# Create a DataFrame to store the results of the sentiment analysis\n",
    "results = pd.DataFrame(columns=[\"stemmed\", \"non-stemmed\"], index=[\"accuracy\", \"precision\", \"recall\", \"f1\", \"roc_auc\"])\n",
    "\n",
    "# Calculate and store the accuracy of the stemmed and non-stemmed data\n",
    "results.loc[\"accuracy\", \"stemmed\"] = accuracy_score(data[\"AITA\"], data[\"C1_stemmed_sentiment_AITA\"])\n",
    "results.loc[\"accuracy\", \"non-stemmed\"] = accuracy_score(data[\"AITA\"], data[\"C1_no_stopwords_AITA\"])\n",
    "\n",
    "# Calculate and store the precision of the stemmed and non-stemmed data\n",
    "results.loc[\"precision\", \"stemmed\"] = precision_score(data[\"AITA\"], data[\"C1_stemmed_sentiment_AITA\"])\n",
    "results.loc[\"precision\", \"non-stemmed\"] = precision_score(data[\"AITA\"], data[\"C1_no_stopwords_AITA\"])\n",
    "\n",
    "# Calculate and store the recall of the stemmed and non-stemmed data\n",
    "results.loc[\"recall\", \"stemmed\"] = recall_score(data[\"AITA\"], data[\"C1_stemmed_sentiment_AITA\"])\n",
    "results.loc[\"recall\", \"non-stemmed\"] = recall_score(data[\"AITA\"], data[\"C1_no_stopwords_AITA\"])\n",
    "\n",
    "# Calculate and store the F1 score of the stemmed and non-stemmed data\n",
    "results.loc[\"f1\", \"stemmed\"] = f1_score(data[\"AITA\"], data[\"C1_stemmed_sentiment_AITA\"])\n",
    "results.loc[\"f1\", \"non-stemmed\"] = f1_score(data[\"AITA\"], data[\"C1_no_stopwords_AITA\"])\n",
    "\n",
    "# Calculate and store the ROC AUC score of the stemmed and non-stemmed data\n",
    "results.loc[\"roc_auc\", \"stemmed\"] = roc_auc_score(data[\"AITA\"], data[\"C1_stemmed_sentiment_AITA\"])\n",
    "results.loc[\"roc_auc\", \"non-stemmed\"] = roc_auc_score(data[\"AITA\"], data[\"C1_no_stopwords_AITA\"])\n",
    "\n",
    "# Save the results DataFrame to a pickle file\n",
    "results.to_pickle(\"./data/metrics.pkl\")\n",
    "\n",
    "# Display the results DataFrame\n",
    "results\n"
   ]
  },
  {
   "cell_type": "markdown",
   "metadata": {},
   "source": [
    "We can conclude from the dataframe above that although the VADER scores are different for stemmed and non-stemmed data, the accuracy, precision, recall, F1 score and ROC AUC score are the same. \n",
    "\n",
    "This means that stemming does not affect the performance of the VADER sentiment analysis.\n",
    "\n",
    "Moreover there is no change in classification of the comments for YTA and NTA.\n",
    "\n",
    "Let us calculate the confusion matrix and discuss the metrics."
   ]
  },
  {
   "cell_type": "code",
   "execution_count": 18,
   "metadata": {},
   "outputs": [
    {
     "data": {
      "text/plain": [
       "<sklearn.metrics._plot.confusion_matrix.ConfusionMatrixDisplay at 0x2306450a4d0>"
      ]
     },
     "execution_count": 18,
     "metadata": {},
     "output_type": "execute_result"
    },
    {
     "data": {
      "image/png": "[encoded data removed]",
      "text/plain": [
       "<Figure size 640x480 with 2 Axes>"
      ]
     },
     "metadata": {},
     "output_type": "display_data"
    }
   ],
   "source": [
    "# Calculate the confusion matrix\n",
    "cm = confusion_matrix(data[\"AITA\"], data[\"C1_stemmed_sentiment_AITA\"])\n",
    "\n",
    "# Print the confusion matrix\n",
    "ConfusionMatrixDisplay(cm).plot()"
   ]
  },
  {
   "cell_type": "markdown",
   "metadata": {},
   "source": [
    "We need to know if the dataset is balanced in order to properly interpret the metrics."
   ]
  },
  {
   "cell_type": "code",
   "execution_count": 20,
   "metadata": {},
   "outputs": [
    {
     "data": {
      "image/png": "[encoded data removed]",
      "text/plain": [
       "<Figure size 640x480 with 1 Axes>"
      ]
     },
     "metadata": {},
     "output_type": "display_data"
    }
   ],
   "source": [
    "import matplotlib.pyplot as plt\n",
    "\n",
    "# Calculate the value counts\n",
    "counts = data[\"AITA\"].value_counts()\n",
    "\n",
    "# Create a pie chart\n",
    "counts.plot.pie(autopct='%1.1f%%')\n",
    "\n",
    "# Add a title to the plot\n",
    "plt.title('Distribution of classes in AITA column')\n",
    "\n",
    "# Show the plot\n",
    "plt.show()"
   ]
  },
  {
   "cell_type": "markdown",
   "metadata": {},
   "source": [
    "# Metrics discussion\n"
   ]
  },
  {
   "cell_type": "markdown",
   "metadata": {},
   "source": [
    "Firstly, we have a imbalanced dataset with 76% of the data being NTA and 24% of YTA answers which means that we cannot use accuracy as a valid metric.\n",
    "\n",
    "Secondly, we have a very low precision score of 27% which means that the model is not very good at predicting YTA answers.\n",
    "\n",
    "Thirdly, we have a recall score of 42% which means that the model is not very good at predicting NTA answers either.\n",
    "\n",
    "The F1 score is 33% which indicates poor performance of our approach.\n",
    "\n",
    "The ROC AUC score is 53% which is only 3 percentage points more than a random chance model.\n",
    "\n"
   ]
  },
  {
   "cell_type": "markdown",
   "metadata": {},
   "source": [
    "# Conclusions"
   ]
  },
  {
   "cell_type": "markdown",
   "metadata": {},
   "source": [
    "\n",
    "Based on the quantitative sentiment analysis of the comments, we can see that the sentiment of the comment does not have a strong correlation with the AITA label.\n",
    "\n",
    "Comments can be mean and negative, but not necessarily say that the poster is YTA. By the same logic comments can be positive and nice, but not necessarily say that the poster is NTA.\n",
    "\n",
    "The sentiment analysis using a VADER sentiment score is not a good predictor of the AITA label. Therfore we suggest that further reasearch could be performed using other sentiment techniques.\n"
   ]
  }
 ],
 "metadata": {
  "kernelspec": {
   "display_name": ".venv",
   "language": "python",
   "name": "python3"
  },
  "language_info": {
   "codemirror_mode": {
    "name": "ipython",
    "version": 3
   },
   "file_extension": ".py",
   "mimetype": "text/x-python",
   "name": "python",
   "nbconvert_exporter": "python",
   "pygments_lexer": "ipython3",
   "version": "3.10.11"
  }
 },
 "nbformat": 4,
 "nbformat_minor": 2
}
